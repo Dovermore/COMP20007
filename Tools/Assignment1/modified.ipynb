{
 "cells": [
  {
   "cell_type": "markdown",
   "metadata": {
    "toc": true
   },
   "source": [
    "<h1>Table of Contents<span class=\"tocSkip\"></span></h1>\n",
    "<div class=\"toc\"><ul class=\"toc-item\"><li><span><a href=\"#Importing-modules\" data-toc-modified-id=\"Importing-modules-1\"><span class=\"toc-item-num\">1&nbsp;&nbsp;</span>Importing modules</a></span></li><li><span><a href=\"#Setting-up-variables\" data-toc-modified-id=\"Setting-up-variables-2\"><span class=\"toc-item-num\">2&nbsp;&nbsp;</span>Setting up variables</a></span></li><li><span><a href=\"#Setting-up-functions\" data-toc-modified-id=\"Setting-up-functions-3\"><span class=\"toc-item-num\">3&nbsp;&nbsp;</span>Setting up functions</a></span></li><li><span><a href=\"#Trying-with-iterations\" data-toc-modified-id=\"Trying-with-iterations-4\"><span class=\"toc-item-num\">4&nbsp;&nbsp;</span>Trying with iterations</a></span></li><li><span><a href=\"#Try-some-plots\" data-toc-modified-id=\"Try-some-plots-5\"><span class=\"toc-item-num\">5&nbsp;&nbsp;</span>Try some plots</a></span><ul class=\"toc-item\"><li><span><a href=\"#Test-with-k-(n_results)\" data-toc-modified-id=\"Test-with-k-(n_results)-5.1\"><span class=\"toc-item-num\">5.1&nbsp;&nbsp;</span>Test with k (n_results)</a></span><ul class=\"toc-item\"><li><span><a href=\"#Test-with-exponential-distribution\" data-toc-modified-id=\"Test-with-exponential-distribution-5.1.1\"><span class=\"toc-item-num\">5.1.1&nbsp;&nbsp;</span>Test with exponential distribution</a></span><ul class=\"toc-item\"><li><span><a href=\"#Task-1\" data-toc-modified-id=\"Task-1-5.1.1.1\"><span class=\"toc-item-num\">5.1.1.1&nbsp;&nbsp;</span>Task 1</a></span></li><li><span><a href=\"#Task-2\" data-toc-modified-id=\"Task-2-5.1.1.2\"><span class=\"toc-item-num\">5.1.1.2&nbsp;&nbsp;</span>Task 2</a></span></li></ul></li></ul></li><li><span><a href=\"#Test-with-n-(n_queries)\" data-toc-modified-id=\"Test-with-n-(n_queries)-5.2\"><span class=\"toc-item-num\">5.2&nbsp;&nbsp;</span>Test with n (n_queries)</a></span><ul class=\"toc-item\"><li><span><a href=\"#Test-with-lienar-distribution\" data-toc-modified-id=\"Test-with-lienar-distribution-5.2.1\"><span class=\"toc-item-num\">5.2.1&nbsp;&nbsp;</span>Test with lienar distribution</a></span><ul class=\"toc-item\"><li><span><a href=\"#Task-1\" data-toc-modified-id=\"Task-1-5.2.1.1\"><span class=\"toc-item-num\">5.2.1.1&nbsp;&nbsp;</span>Task 1</a></span></li><li><span><a href=\"#Task-2\" data-toc-modified-id=\"Task-2-5.2.1.2\"><span class=\"toc-item-num\">5.2.1.2&nbsp;&nbsp;</span>Task 2</a></span></li></ul></li></ul></li><li><span><a href=\"#Test-with-m-(n_documents)\" data-toc-modified-id=\"Test-with-m-(n_documents)-5.3\"><span class=\"toc-item-num\">5.3&nbsp;&nbsp;</span>Test with m (n_documents)</a></span><ul class=\"toc-item\"><li><span><a href=\"#read-n_documents\" data-toc-modified-id=\"read-n_documents-5.3.1\"><span class=\"toc-item-num\">5.3.1&nbsp;&nbsp;</span>read n_documents</a></span><ul class=\"toc-item\"><li><span><a href=\"#cal-line-num-function\" data-toc-modified-id=\"cal-line-num-function-5.3.1.1\"><span class=\"toc-item-num\">5.3.1.1&nbsp;&nbsp;</span>cal line num function</a></span></li><li><span><a href=\"#build-df\" data-toc-modified-id=\"build-df-5.3.1.2\"><span class=\"toc-item-num\">5.3.1.2&nbsp;&nbsp;</span>build df</a></span></li><li><span><a href=\"#cal-line-num\" data-toc-modified-id=\"cal-line-num-5.3.1.3\"><span class=\"toc-item-num\">5.3.1.3&nbsp;&nbsp;</span>cal line num</a></span></li><li><span><a href=\"#clean-data\" data-toc-modified-id=\"clean-data-5.3.1.4\"><span class=\"toc-item-num\">5.3.1.4&nbsp;&nbsp;</span>clean data</a></span></li></ul></li><li><span><a href=\"#task-1\" data-toc-modified-id=\"task-1-5.3.2\"><span class=\"toc-item-num\">5.3.2&nbsp;&nbsp;</span>task 1</a></span></li><li><span><a href=\"#task-2\" data-toc-modified-id=\"task-2-5.3.3\"><span class=\"toc-item-num\">5.3.3&nbsp;&nbsp;</span>task 2</a></span></li><li><span><a href=\"#together\" data-toc-modified-id=\"together-5.3.4\"><span class=\"toc-item-num\">5.3.4&nbsp;&nbsp;</span>together</a></span></li><li><span><a href=\"#task-2\" data-toc-modified-id=\"task-2-5.3.5\"><span class=\"toc-item-num\">5.3.5&nbsp;&nbsp;</span>task 2</a></span></li></ul></li></ul></li><li><span><a href=\"#Now-we-make-a-integrated-subplots\" data-toc-modified-id=\"Now-we-make-a-integrated-subplots-6\"><span class=\"toc-item-num\">6&nbsp;&nbsp;</span>Now we make a integrated subplots</a></span><ul class=\"toc-item\"><li><span><a href=\"#Defining-a-subplot/full-plot-function\" data-toc-modified-id=\"Defining-a-subplot/full-plot-function-6.1\"><span class=\"toc-item-num\">6.1&nbsp;&nbsp;</span>Defining a subplot/full plot function</a></span></li><li><span><a href=\"#Setting-the-variables-used-in-function\" data-toc-modified-id=\"Setting-the-variables-used-in-function-6.2\"><span class=\"toc-item-num\">6.2&nbsp;&nbsp;</span>Setting the variables used in function</a></span></li><li><span><a href=\"#Call-the-function\" data-toc-modified-id=\"Call-the-function-6.3\"><span class=\"toc-item-num\">6.3&nbsp;&nbsp;</span>Call the function</a></span></li></ul></li></ul></div>"
   ]
  },
  {
   "cell_type": "markdown",
   "metadata": {},
   "source": [
    "# Importing modules"
   ]
  },
  {
   "cell_type": "code",
   "execution_count": 1,
   "metadata": {
    "ExecuteTime": {
     "end_time": "2018-04-04T05:37:39.246212Z",
     "start_time": "2018-04-04T05:37:36.727622Z"
    }
   },
   "outputs": [],
   "source": [
    "import time\n",
    "import os\n",
    "import os.path\n",
    "import numpy as np\n",
    "import matplotlib as mpl\n",
    "import matplotlib.pyplot as plt\n",
    "from subprocess import call, run, check_output\n",
    "\n",
    "import pandas\n",
    "from pandas import DataFrame as df\n",
    "import numpy"
   ]
  },
  {
   "cell_type": "markdown",
   "metadata": {},
   "source": [
    "# Setting up variables"
   ]
  },
  {
   "cell_type": "code",
   "execution_count": 2,
   "metadata": {
    "ExecuteTime": {
     "end_time": "2018-04-04T05:37:39.257236Z",
     "start_time": "2018-04-04T05:37:39.247183Z"
    },
    "scrolled": true
   },
   "outputs": [
    {
     "data": {
      "text/plain": [
       "['a',\n",
       " 'ada',\n",
       " 'age',\n",
       " 'air',\n",
       " 'alan',\n",
       " 'algorithms',\n",
       " 'all',\n",
       " 'an',\n",
       " 'and',\n",
       " 'april',\n",
       " 'are',\n",
       " 'as',\n",
       " 'assassin',\n",
       " 'at',\n",
       " 'b',\n",
       " 'back',\n",
       " 'bag',\n",
       " 'banana',\n",
       " 'battle',\n",
       " 'be',\n",
       " 'beginner',\n",
       " 'bitcoin',\n",
       " 'boat',\n",
       " 'but',\n",
       " 'by',\n",
       " 'c',\n",
       " 'can',\n",
       " 'car',\n",
       " 'cat',\n",
       " 'chess',\n",
       " 'computer',\n",
       " 'concurrent',\n",
       " 'cryptocurrency',\n",
       " 'cryptography',\n",
       " 'dark',\n",
       " 'day',\n",
       " 'deep',\n",
       " 'do',\n",
       " 'dog',\n",
       " 'down',\n",
       " 'each',\n",
       " 'emoji',\n",
       " 'empires',\n",
       " 'fantasy',\n",
       " 'flight',\n",
       " 'for',\n",
       " 'fresh',\n",
       " 'from',\n",
       " 'fun',\n",
       " 'game',\n",
       " 'go',\n",
       " 'had',\n",
       " 'harmony',\n",
       " 'have',\n",
       " 'he',\n",
       " 'hello',\n",
       " 'his',\n",
       " 'how',\n",
       " 'i',\n",
       " 'if',\n",
       " 'in',\n",
       " 'is',\n",
       " 'it',\n",
       " 'kangaroo',\n",
       " 'league',\n",
       " 'left',\n",
       " 'legends',\n",
       " 'lovelace',\n",
       " 'melbourne',\n",
       " 'moron',\n",
       " 'mythology',\n",
       " 'no',\n",
       " 'not',\n",
       " 'of',\n",
       " 'omnipotent',\n",
       " 'omniscient',\n",
       " 'on',\n",
       " 'one',\n",
       " 'or',\n",
       " 'out',\n",
       " 'oxymoron',\n",
       " 'plane',\n",
       " 'player',\n",
       " 'power',\n",
       " 'program',\n",
       " 'putin',\n",
       " 'python',\n",
       " 'regular',\n",
       " 'right',\n",
       " 'said',\n",
       " 'select',\n",
       " 'she',\n",
       " 'simple',\n",
       " 'smart',\n",
       " 'solar',\n",
       " 'start',\n",
       " 'steam',\n",
       " 'sydney',\n",
       " 'system',\n",
       " 'that',\n",
       " 'the',\n",
       " 'their',\n",
       " 'there',\n",
       " 'they',\n",
       " 'this',\n",
       " 'three',\n",
       " 'to',\n",
       " 'today',\n",
       " 'turing',\n",
       " 'turtle',\n",
       " 'two',\n",
       " 'universe',\n",
       " 'university',\n",
       " 'unknown',\n",
       " 'up',\n",
       " 'use',\n",
       " 'van',\n",
       " 'was',\n",
       " 'watch',\n",
       " 'we',\n",
       " 'weather',\n",
       " 'were',\n",
       " 'what',\n",
       " 'when',\n",
       " 'which',\n",
       " 'with',\n",
       " 'word',\n",
       " 'world',\n",
       " 'you',\n",
       " 'your']"
      ]
     },
     "execution_count": 2,
     "metadata": {},
     "output_type": "execute_result"
    }
   ],
   "source": [
    "queries = [] # all the queries\n",
    "\n",
    "for file in os.listdir(\"./data\"):\n",
    "    if file.endswith(\".txt\"):\n",
    "        queries.append(file[:-4])\n",
    "queries"
   ]
  },
  {
   "cell_type": "code",
   "execution_count": 3,
   "metadata": {
    "ExecuteTime": {
     "end_time": "2018-04-04T05:37:41.675175Z",
     "start_time": "2018-04-04T05:37:41.661139Z"
    }
   },
   "outputs": [],
   "source": [
    "# number of iterations\n",
    "n_iter = 3\n",
    "\n",
    "# k\n",
    "# default n_result\n",
    "n_results = 10\n",
    "# 1000, 2000, ...., 100000\n",
    "lin_n_results = np.arange(1000, 100000, 1000)\n",
    "\n",
    "# +5 here because I want to explore when the n_results gets larger than\n",
    "# n_documents, how does the program behave, default should be +2\n",
    "exp_n_results = np.concatenate([[0], \n",
    "                                np.logspace(0, int(np.log2(20000)),\n",
    "                                            base=2)], axis=0)\n",
    "# 0, 2, 4, 8, 16... 131072\n",
    "\n",
    "# m\n",
    "lin_n_queries = np.arange(0, len(queries), 10)\n",
    "\n",
    "\n",
    "#t\n",
    "tasks = np.array([1, 2])"
   ]
  },
  {
   "cell_type": "markdown",
   "metadata": {},
   "source": [
    "# Setting up functions"
   ]
  },
  {
   "cell_type": "code",
   "execution_count": 4,
   "metadata": {
    "ExecuteTime": {
     "end_time": "2018-04-04T05:37:44.225197Z",
     "start_time": "2018-04-04T05:37:44.195117Z"
    }
   },
   "outputs": [],
   "source": [
    "\"\"\"\n",
    "get a random subset from list\n",
    "\"\"\"\n",
    "def get_subset(queries, nele=5):\n",
    "    return np.random.choice(queries, nele)\n",
    "    \n",
    "\"\"\"\n",
    "print formatted result with newlines\n",
    "\"\"\"\n",
    "def check_result(*args, **kwargs):\n",
    "    print(str(check_output(format_input(*args, **kwargs)), 'utf-8'))\n",
    "    \n",
    "\"\"\"\n",
    "************************************************************************\n",
    "make a formatted inputs.\n",
    "task: integer of the task number \n",
    "n_results: integer of number of result to display\n",
    "file: the location of executable a1\n",
    "*queries: queries used in program\n",
    "************************************************************************\n",
    "\"\"\"\n",
    "def format_input(task, n_results, *queries, file=\"./a1\"):\n",
    "    return [file, \"-t\", str(task), \"-r\", str(n_results), *queries]\n",
    "\n",
    "\"\"\"\n",
    "make a formatted run and return time it takes to execute\n",
    "\"\"\"\n",
    "def time_run(n_iter, *args, **kwargs):\n",
    "    dts = 0\n",
    "    for i in range(n_iter):\n",
    "        t1 = time.time()\n",
    "#         print(format_input(*args, **kwargs))\n",
    "        run(format_input(*args, **kwargs))\n",
    "        dts += (time.time()-t1)\n",
    "    return dts/n_iter*1000\n",
    "\n",
    "\"\"\"\n",
    "format output of time_run same as %timeit\n",
    "\"\"\"\n",
    "def formatted_time_run(n_iter, *args, **kwargs):\n",
    "    t = time_run(n_iter, *args, **kwargs)\n",
    "    print(\"{} loops, {:.2f} ms per loop\".format(n_iter, t))"
   ]
  },
  {
   "cell_type": "markdown",
   "metadata": {
    "heading_collapsed": true
   },
   "source": [
    "# Trying with iterations"
   ]
  },
  {
   "cell_type": "markdown",
   "metadata": {
    "hidden": true
   },
   "source": [
    "If any of the following printed result is 1. Means your program has bugs in it!"
   ]
  },
  {
   "cell_type": "code",
   "execution_count": 5,
   "metadata": {
    "ExecuteTime": {
     "end_time": "2018-04-04T05:20:21.007609Z",
     "start_time": "2018-04-04T05:20:09.720088Z"
    },
    "hidden": true
   },
   "outputs": [
    {
     "name": "stdout",
     "output_type": "stream",
     "text": [
      "task1\n",
      "0\n",
      "0\n",
      "task2\n",
      "0\n",
      "0\n"
     ]
    }
   ],
   "source": [
    "print(\"task1\")\n",
    "print(call([\"./a1\", \"-t\", \"1\", \"-r\", \"10000\", \"algorithms\", \"are\", \"fun\"]))\n",
    "print(call([\"./a1\", \"-t\", \"1\", \"-r\", \"0\", \"algorithms\", \"are\", \"fun\"]))\n",
    "# print(call([\"./a1\", \"-t\", \"1\", \"-r\", \"100000\", \"algorithms\"]))\n",
    "# print(call([\"./a1\", \"-t\", \"1\", \"-r\", \"1000000\", \"algorithms\"]))\n",
    "print(\"task2\")\n",
    "print(call([\"./a1\", \"-t\", \"2\", \"-r\", \"10000\", \"algorithms\", \"are\", \"fun\"]))\n",
    "print(call([\"./a1\", \"-t\", \"2\", \"-r\", \"0\", \"algorithms\", \"are\", \"fun\"]))\n",
    "# print(call([\"./a1\", \"-t\", \"2\", \"-r\", \"100000\", \"algorithms\"]))\n",
    "# print(call([\"./a1\", \"-t\", \"2\", \"-r\", \"1000000\", \"algorithms\"]))"
   ]
  },
  {
   "cell_type": "markdown",
   "metadata": {
    "hidden": true
   },
   "source": [
    "Try some sample iterations"
   ]
  },
  {
   "cell_type": "code",
   "execution_count": 6,
   "metadata": {
    "ExecuteTime": {
     "end_time": "2018-04-04T05:20:38.468252Z",
     "start_time": "2018-04-04T05:20:21.009616Z"
    },
    "hidden": true
   },
   "outputs": [
    {
     "name": "stdout",
     "output_type": "stream",
     "text": [
      "3 loops, 115.83 ms per loop\n",
      "3 loops, 122.87 ms per loop\n",
      "109 ms ± 1.79 ms per loop (mean ± std. dev. of 7 runs, 10 loops each)\n",
      "97.3 ms ± 959 µs per loop (mean ± std. dev. of 7 runs, 10 loops each)\n"
     ]
    }
   ],
   "source": [
    "formatted_time_run(3, 1, 10, \"algorithms\", \"are\", \"fun\")\n",
    "formatted_time_run(3, 2, 10, \"algorithms\", \"are\", \"fun\")\n",
    "%timeit run([\"./a1\", \"-t\", \"1\", \"-r\", \"10\", \"algorithms\", \"are\", \"fun\"])\n",
    "%timeit run([\"./a1\", \"-t\", \"2\", \"-r\", \"10\", \"algorithms\", \"are\", \"fun\"])"
   ]
  },
  {
   "cell_type": "markdown",
   "metadata": {},
   "source": [
    "# Try some plots\n",
    "These are for tests, the formal plot are below.\n",
    "check doc string of the parsed functions"
   ]
  },
  {
   "cell_type": "markdown",
   "metadata": {},
   "source": [
    "## Test with k (n_results)"
   ]
  },
  {
   "cell_type": "markdown",
   "metadata": {},
   "source": [
    "### Test with exponential distribution"
   ]
  },
  {
   "cell_type": "code",
   "execution_count": 7,
   "metadata": {
    "ExecuteTime": {
     "end_time": "2018-04-04T05:20:38.474269Z",
     "start_time": "2018-04-04T05:20:38.470258Z"
    }
   },
   "outputs": [
    {
     "data": {
      "text/plain": [
       "array(['age', 'if'], dtype='<U14')"
      ]
     },
     "execution_count": 7,
     "metadata": {},
     "output_type": "execute_result"
    }
   ],
   "source": [
    "subset1 = get_subset(queries, 2)\n",
    "subset1  # This is the queries used to test program"
   ]
  },
  {
   "cell_type": "markdown",
   "metadata": {},
   "source": [
    "#### Task 1"
   ]
  },
  {
   "cell_type": "code",
   "execution_count": 8,
   "metadata": {
    "ExecuteTime": {
     "end_time": "2018-04-04T05:22:33.917435Z",
     "start_time": "2018-04-04T05:20:38.475271Z"
    }
   },
   "outputs": [
    {
     "ename": "KeyboardInterrupt",
     "evalue": "",
     "output_type": "error",
     "traceback": [
      "\u001b[1;31m---------------------------------------------------------------------------\u001b[0m",
      "\u001b[1;31mKeyboardInterrupt\u001b[0m                         Traceback (most recent call last)",
      "\u001b[1;32m<ipython-input-8-61dc162b0760>\u001b[0m in \u001b[0;36m<module>\u001b[1;34m()\u001b[0m\n\u001b[0;32m      1\u001b[0m \u001b[0my_expk_1\u001b[0m \u001b[1;33m=\u001b[0m \u001b[1;33m[\u001b[0m\u001b[1;33m]\u001b[0m\u001b[1;33m\u001b[0m\u001b[0m\n\u001b[0;32m      2\u001b[0m \u001b[1;32mfor\u001b[0m \u001b[0mi\u001b[0m \u001b[1;32min\u001b[0m \u001b[0mexp_n_results\u001b[0m\u001b[1;33m:\u001b[0m\u001b[1;33m\u001b[0m\u001b[0m\n\u001b[1;32m----> 3\u001b[1;33m     \u001b[0my_expk_1\u001b[0m\u001b[1;33m.\u001b[0m\u001b[0mappend\u001b[0m\u001b[1;33m(\u001b[0m\u001b[0mtime_run\u001b[0m\u001b[1;33m(\u001b[0m\u001b[0mn_iter\u001b[0m\u001b[1;33m,\u001b[0m \u001b[1;36m1\u001b[0m\u001b[1;33m,\u001b[0m \u001b[0mi\u001b[0m\u001b[1;33m,\u001b[0m \u001b[1;33m*\u001b[0m\u001b[0msubset1\u001b[0m\u001b[1;33m)\u001b[0m\u001b[1;33m)\u001b[0m\u001b[1;33m\u001b[0m\u001b[0m\n\u001b[0m",
      "\u001b[1;32m<ipython-input-4-c16a8bce623f>\u001b[0m in \u001b[0;36mtime_run\u001b[1;34m(n_iter, *args, **kwargs)\u001b[0m\n\u001b[0;32m     31\u001b[0m         \u001b[0mt1\u001b[0m \u001b[1;33m=\u001b[0m \u001b[0mtime\u001b[0m\u001b[1;33m.\u001b[0m\u001b[0mtime\u001b[0m\u001b[1;33m(\u001b[0m\u001b[1;33m)\u001b[0m\u001b[1;33m\u001b[0m\u001b[0m\n\u001b[0;32m     32\u001b[0m \u001b[1;31m#         print(format_input(*args, **kwargs))\u001b[0m\u001b[1;33m\u001b[0m\u001b[1;33m\u001b[0m\u001b[0m\n\u001b[1;32m---> 33\u001b[1;33m         \u001b[0mrun\u001b[0m\u001b[1;33m(\u001b[0m\u001b[0mformat_input\u001b[0m\u001b[1;33m(\u001b[0m\u001b[1;33m*\u001b[0m\u001b[0margs\u001b[0m\u001b[1;33m,\u001b[0m \u001b[1;33m**\u001b[0m\u001b[0mkwargs\u001b[0m\u001b[1;33m)\u001b[0m\u001b[1;33m)\u001b[0m\u001b[1;33m\u001b[0m\u001b[0m\n\u001b[0m\u001b[0;32m     34\u001b[0m         \u001b[0mdts\u001b[0m \u001b[1;33m+=\u001b[0m \u001b[1;33m(\u001b[0m\u001b[0mtime\u001b[0m\u001b[1;33m.\u001b[0m\u001b[0mtime\u001b[0m\u001b[1;33m(\u001b[0m\u001b[1;33m)\u001b[0m\u001b[1;33m-\u001b[0m\u001b[0mt1\u001b[0m\u001b[1;33m)\u001b[0m\u001b[1;33m\u001b[0m\u001b[0m\n\u001b[0;32m     35\u001b[0m     \u001b[1;32mreturn\u001b[0m \u001b[0mdts\u001b[0m\u001b[1;33m/\u001b[0m\u001b[0mn_iter\u001b[0m\u001b[1;33m*\u001b[0m\u001b[1;36m1000\u001b[0m\u001b[1;33m\u001b[0m\u001b[0m\n",
      "\u001b[1;32md:\\python\\lib\\subprocess.py\u001b[0m in \u001b[0;36mrun\u001b[1;34m(input, timeout, check, *popenargs, **kwargs)\u001b[0m\n\u001b[0;32m    403\u001b[0m     \u001b[1;32mwith\u001b[0m \u001b[0mPopen\u001b[0m\u001b[1;33m(\u001b[0m\u001b[1;33m*\u001b[0m\u001b[0mpopenargs\u001b[0m\u001b[1;33m,\u001b[0m \u001b[1;33m**\u001b[0m\u001b[0mkwargs\u001b[0m\u001b[1;33m)\u001b[0m \u001b[1;32mas\u001b[0m \u001b[0mprocess\u001b[0m\u001b[1;33m:\u001b[0m\u001b[1;33m\u001b[0m\u001b[0m\n\u001b[0;32m    404\u001b[0m         \u001b[1;32mtry\u001b[0m\u001b[1;33m:\u001b[0m\u001b[1;33m\u001b[0m\u001b[0m\n\u001b[1;32m--> 405\u001b[1;33m             \u001b[0mstdout\u001b[0m\u001b[1;33m,\u001b[0m \u001b[0mstderr\u001b[0m \u001b[1;33m=\u001b[0m \u001b[0mprocess\u001b[0m\u001b[1;33m.\u001b[0m\u001b[0mcommunicate\u001b[0m\u001b[1;33m(\u001b[0m\u001b[0minput\u001b[0m\u001b[1;33m,\u001b[0m \u001b[0mtimeout\u001b[0m\u001b[1;33m=\u001b[0m\u001b[0mtimeout\u001b[0m\u001b[1;33m)\u001b[0m\u001b[1;33m\u001b[0m\u001b[0m\n\u001b[0m\u001b[0;32m    406\u001b[0m         \u001b[1;32mexcept\u001b[0m \u001b[0mTimeoutExpired\u001b[0m\u001b[1;33m:\u001b[0m\u001b[1;33m\u001b[0m\u001b[0m\n\u001b[0;32m    407\u001b[0m             \u001b[0mprocess\u001b[0m\u001b[1;33m.\u001b[0m\u001b[0mkill\u001b[0m\u001b[1;33m(\u001b[0m\u001b[1;33m)\u001b[0m\u001b[1;33m\u001b[0m\u001b[0m\n",
      "\u001b[1;32md:\\python\\lib\\subprocess.py\u001b[0m in \u001b[0;36mcommunicate\u001b[1;34m(self, input, timeout)\u001b[0m\n\u001b[0;32m    833\u001b[0m                 \u001b[0mstderr\u001b[0m \u001b[1;33m=\u001b[0m \u001b[0mself\u001b[0m\u001b[1;33m.\u001b[0m\u001b[0mstderr\u001b[0m\u001b[1;33m.\u001b[0m\u001b[0mread\u001b[0m\u001b[1;33m(\u001b[0m\u001b[1;33m)\u001b[0m\u001b[1;33m\u001b[0m\u001b[0m\n\u001b[0;32m    834\u001b[0m                 \u001b[0mself\u001b[0m\u001b[1;33m.\u001b[0m\u001b[0mstderr\u001b[0m\u001b[1;33m.\u001b[0m\u001b[0mclose\u001b[0m\u001b[1;33m(\u001b[0m\u001b[1;33m)\u001b[0m\u001b[1;33m\u001b[0m\u001b[0m\n\u001b[1;32m--> 835\u001b[1;33m             \u001b[0mself\u001b[0m\u001b[1;33m.\u001b[0m\u001b[0mwait\u001b[0m\u001b[1;33m(\u001b[0m\u001b[1;33m)\u001b[0m\u001b[1;33m\u001b[0m\u001b[0m\n\u001b[0m\u001b[0;32m    836\u001b[0m         \u001b[1;32melse\u001b[0m\u001b[1;33m:\u001b[0m\u001b[1;33m\u001b[0m\u001b[0m\n\u001b[0;32m    837\u001b[0m             \u001b[1;32mif\u001b[0m \u001b[0mtimeout\u001b[0m \u001b[1;32mis\u001b[0m \u001b[1;32mnot\u001b[0m \u001b[1;32mNone\u001b[0m\u001b[1;33m:\u001b[0m\u001b[1;33m\u001b[0m\u001b[0m\n",
      "\u001b[1;32md:\\python\\lib\\subprocess.py\u001b[0m in \u001b[0;36mwait\u001b[1;34m(self, timeout, endtime)\u001b[0m\n\u001b[0;32m   1053\u001b[0m             \u001b[1;32mif\u001b[0m \u001b[0mself\u001b[0m\u001b[1;33m.\u001b[0m\u001b[0mreturncode\u001b[0m \u001b[1;32mis\u001b[0m \u001b[1;32mNone\u001b[0m\u001b[1;33m:\u001b[0m\u001b[1;33m\u001b[0m\u001b[0m\n\u001b[0;32m   1054\u001b[0m                 result = _winapi.WaitForSingleObject(self._handle,\n\u001b[1;32m-> 1055\u001b[1;33m                                                     timeout_millis)\n\u001b[0m\u001b[0;32m   1056\u001b[0m                 \u001b[1;32mif\u001b[0m \u001b[0mresult\u001b[0m \u001b[1;33m==\u001b[0m \u001b[0m_winapi\u001b[0m\u001b[1;33m.\u001b[0m\u001b[0mWAIT_TIMEOUT\u001b[0m\u001b[1;33m:\u001b[0m\u001b[1;33m\u001b[0m\u001b[0m\n\u001b[0;32m   1057\u001b[0m                     \u001b[1;32mraise\u001b[0m \u001b[0mTimeoutExpired\u001b[0m\u001b[1;33m(\u001b[0m\u001b[0mself\u001b[0m\u001b[1;33m.\u001b[0m\u001b[0margs\u001b[0m\u001b[1;33m,\u001b[0m \u001b[0mtimeout\u001b[0m\u001b[1;33m)\u001b[0m\u001b[1;33m\u001b[0m\u001b[0m\n",
      "\u001b[1;31mKeyboardInterrupt\u001b[0m: "
     ]
    }
   ],
   "source": [
    "y_expk_1 = []\n",
    "for i in exp_n_results:\n",
    "    y_expk_1.append(time_run(n_iter, 1, i, *subset1))"
   ]
  },
  {
   "cell_type": "code",
   "execution_count": null,
   "metadata": {
    "ExecuteTime": {
     "end_time": "2018-04-04T05:22:33.917435Z",
     "start_time": "2018-04-04T05:20:09.080Z"
    },
    "scrolled": true
   },
   "outputs": [],
   "source": [
    "fig = plt.figure(figsize=[8,8])\n",
    "plt.plot(exp_n_results, y_expk_1)\n",
    "# fig.text(0.1, 0.5, \"By Calvin Zhuoqun Huang\",fontsize=50, color='gray',alpha=0.5)\n",
    "plt.show()"
   ]
  },
  {
   "cell_type": "code",
   "execution_count": null,
   "metadata": {
    "ExecuteTime": {
     "end_time": "2018-04-04T05:22:33.918438Z",
     "start_time": "2018-04-04T05:20:09.082Z"
    },
    "scrolled": true
   },
   "outputs": [],
   "source": [
    "fig = plt.figure(figsize=[8,8])\n",
    "plt.plot(exp_n_results, y_expk_1)\n",
    "plt.xscale(\"log\")\n",
    "# fig.text(0.1, 0.5, \"By Calvin Zhuoqun Huang\",fontsize=50, color='gray',alpha=0.5)\n",
    "plt.show()"
   ]
  },
  {
   "cell_type": "markdown",
   "metadata": {},
   "source": [
    "#### Task 2"
   ]
  },
  {
   "cell_type": "code",
   "execution_count": null,
   "metadata": {
    "ExecuteTime": {
     "end_time": "2018-04-04T05:22:33.919440Z",
     "start_time": "2018-04-04T05:20:09.085Z"
    }
   },
   "outputs": [],
   "source": [
    "y_expk_2 = []\n",
    "\n",
    "for i in exp_n_results:\n",
    "    y_expk_2.append(time_run(n_iter, 2, i, *subset1))"
   ]
  },
  {
   "cell_type": "code",
   "execution_count": null,
   "metadata": {
    "ExecuteTime": {
     "end_time": "2018-04-04T05:22:33.920443Z",
     "start_time": "2018-04-04T05:20:09.088Z"
    },
    "scrolled": true
   },
   "outputs": [],
   "source": [
    "fig = plt.figure(figsize=[8,8])\n",
    "plt.plot(exp_n_results, y_expk_2)\n",
    "fig.text(0.1, 0.5, \"By Calvin Zhuoqun Huang\",\n",
    "         fontsize=50, color='gray',alpha=0.5)\n",
    "plt.show()"
   ]
  },
  {
   "cell_type": "code",
   "execution_count": null,
   "metadata": {
    "ExecuteTime": {
     "end_time": "2018-04-04T05:22:33.921446Z",
     "start_time": "2018-04-04T05:20:09.091Z"
    },
    "scrolled": false
   },
   "outputs": [],
   "source": [
    "fig = plt.figure(figsize=[8,8])\n",
    "plt.plot(exp_n_results, y_expk_2)\n",
    "plt.xscale(\"log\")\n",
    "fig.text(0.1, 0.5, \"By Calvin Zhuoqun Huang\",\n",
    "         fontsize=50, color='gray',alpha=0.5)\n",
    "plt.show()"
   ]
  },
  {
   "cell_type": "markdown",
   "metadata": {},
   "source": [
    "## Test with n (n_queries)"
   ]
  },
  {
   "cell_type": "markdown",
   "metadata": {},
   "source": [
    "### Test with lienar distribution"
   ]
  },
  {
   "cell_type": "markdown",
   "metadata": {},
   "source": [
    "#### Task 1"
   ]
  },
  {
   "cell_type": "code",
   "execution_count": null,
   "metadata": {
    "ExecuteTime": {
     "end_time": "2018-04-04T05:22:33.921446Z",
     "start_time": "2018-04-04T05:20:09.094Z"
    }
   },
   "outputs": [],
   "source": [
    "y_linm_1 = []\n",
    "for i in lin_n_queries:\n",
    "    y_linm_1.append(time_run(5, 1, n_results, *get_subset(queries, i)))"
   ]
  },
  {
   "cell_type": "code",
   "execution_count": null,
   "metadata": {
    "ExecuteTime": {
     "end_time": "2018-04-04T05:22:33.922449Z",
     "start_time": "2018-04-04T05:20:09.096Z"
    },
    "scrolled": false
   },
   "outputs": [],
   "source": [
    "fig = plt.figure(figsize=[8,8])\n",
    "plt.plot(lin_n_queries, y_linm_1)\n",
    "fig.text(0.1, 0.5, \"By Calvin Zhuoqun Huang\",\n",
    "         fontsize=50, color='gray',alpha=0.5)\n",
    "plt.show()"
   ]
  },
  {
   "cell_type": "markdown",
   "metadata": {
    "heading_collapsed": true
   },
   "source": [
    "#### Task 2"
   ]
  },
  {
   "cell_type": "code",
   "execution_count": null,
   "metadata": {
    "ExecuteTime": {
     "end_time": "2018-04-04T05:22:33.923451Z",
     "start_time": "2018-04-04T05:20:09.099Z"
    },
    "hidden": true
   },
   "outputs": [],
   "source": [
    "y_linm_2 = []\n",
    "for i in lin_n_queries:\n",
    "    y_linm_2.append(time_run(5, 2, n_results, *get_subset(queries, i)))"
   ]
  },
  {
   "cell_type": "code",
   "execution_count": null,
   "metadata": {
    "ExecuteTime": {
     "end_time": "2018-04-04T05:22:33.924454Z",
     "start_time": "2018-04-04T05:20:09.103Z"
    },
    "hidden": true,
    "scrolled": true
   },
   "outputs": [],
   "source": [
    "fig = plt.figure(figsize=[8,8])\n",
    "plt.plot(lin_n_queries, y_linm_2)\n",
    "fig.text(0.1, 0.5, \"By Calvin Zhuoqun Huang\",\n",
    "         fontsize=50, color='gray',alpha=0.5)\n",
    "plt.show()"
   ]
  },
  {
   "cell_type": "markdown",
   "metadata": {},
   "source": [
    "## Test with m (n_documents)"
   ]
  },
  {
   "cell_type": "markdown",
   "metadata": {},
   "source": [
    "### read n_documents"
   ]
  },
  {
   "cell_type": "markdown",
   "metadata": {},
   "source": [
    "#### cal line num function"
   ]
  },
  {
   "cell_type": "code",
   "execution_count": 5,
   "metadata": {
    "ExecuteTime": {
     "end_time": "2018-04-04T05:37:48.201614Z",
     "start_time": "2018-04-04T05:37:48.195598Z"
    }
   },
   "outputs": [],
   "source": [
    "def file_len(full_path):\n",
    "  \"\"\" Count number of lines in a file.\"\"\"\n",
    "  f = open(full_path)\n",
    "  nr_of_lines = sum(1 for line in f)\n",
    "  f.close()\n",
    "  return nr_of_lines"
   ]
  },
  {
   "cell_type": "markdown",
   "metadata": {},
   "source": [
    "#### build df"
   ]
  },
  {
   "cell_type": "code",
   "execution_count": 6,
   "metadata": {
    "ExecuteTime": {
     "end_time": "2018-04-04T05:37:51.505321Z",
     "start_time": "2018-04-04T05:37:51.501308Z"
    }
   },
   "outputs": [],
   "source": [
    "file = df(data = [['', 0] for i in range(len(queries))], columns = [\"name\", \"n_documents\"])\n",
    "# file"
   ]
  },
  {
   "cell_type": "markdown",
   "metadata": {},
   "source": [
    "#### cal line num"
   ]
  },
  {
   "cell_type": "code",
   "execution_count": 7,
   "metadata": {
    "ExecuteTime": {
     "end_time": "2018-04-04T05:37:53.757622Z",
     "start_time": "2018-04-04T05:37:53.013756Z"
    }
   },
   "outputs": [],
   "source": [
    "count = 0\n",
    "for i in queries:\n",
    "    file.loc[count, \"name\"] = str(i)\n",
    "    file.loc[count, \"n_documents\"] = file_len(\"data/\" + str(i) + \".txt\")\n",
    "    count+=1"
   ]
  },
  {
   "cell_type": "markdown",
   "metadata": {},
   "source": [
    "#### clean data"
   ]
  },
  {
   "cell_type": "code",
   "execution_count": 11,
   "metadata": {
    "ExecuteTime": {
     "end_time": "2018-04-04T06:00:02.740848Z",
     "start_time": "2018-04-04T06:00:02.735834Z"
    }
   },
   "outputs": [],
   "source": [
    "file = file.sort_values(by='n_documents', ascending=True)\n",
    "# file.drop_duplicates(subset='n_documents', keep='first', inplace=True)\n",
    "# file\n",
    "file = file[file[\"n_documents\"]<29999]"
   ]
  },
  {
   "cell_type": "markdown",
   "metadata": {},
   "source": [
    "###  task 1"
   ]
  },
  {
   "cell_type": "code",
   "execution_count": 14,
   "metadata": {
    "ExecuteTime": {
     "end_time": "2018-04-04T08:01:50.930994Z",
     "start_time": "2018-04-04T07:47:12.424792Z"
    }
   },
   "outputs": [],
   "source": [
    "y_expn_1 = []\n",
    "x_expn_1 = []\n",
    "n_iter = 3\n",
    "\n",
    "n_results = file[\"n_documents\"].max()\n",
    "\n",
    "# lookup = []\n",
    "\n",
    "for i in file.index:\n",
    "#     lookup.append(file.loc[i, \"name\"])\n",
    "    x_expn_1.append(file.loc[i, \"n_documents\"])\n",
    "#     y_expn_1.append(time_run(n_iter, 1, n_results, *lookup))\n",
    "    y_expn_1.append(time_run(n_iter, 1, n_results, *[file.loc[i, \"name\"]]))"
   ]
  },
  {
   "cell_type": "code",
   "execution_count": 15,
   "metadata": {
    "ExecuteTime": {
     "end_time": "2018-04-04T08:02:16.333639Z",
     "start_time": "2018-04-04T08:02:15.815073Z"
    },
    "scrolled": true
   },
   "outputs": [
    {
     "data": {
      "image/png": "[encoded data removed]",
      "text/plain": [
       "<matplotlib.figure.Figure at 0x28403d0>"
      ]
     },
     "metadata": {},
     "output_type": "display_data"
    }
   ],
   "source": [
    "fig = plt.figure(figsize=[8,8])\n",
    "plt.plot(x_expn_1, y_expn_1)\n",
    "# fig.text(0.1, 0.5, \"By Calvin Zhuoqun Huang\",fontsize=50, color='gray',alpha=0.5)\n",
    "plt.show()"
   ]
  },
  {
   "cell_type": "code",
   "execution_count": 16,
   "metadata": {
    "ExecuteTime": {
     "end_time": "2018-04-04T08:02:21.225981Z",
     "start_time": "2018-04-04T08:02:20.622348Z"
    },
    "scrolled": false
   },
   "outputs": [
    {
     "data": {
      "image/png": "[encoded data removed]",
      "text/plain": [
       "<matplotlib.figure.Figure at 0x15cbb0>"
      ]
     },
     "metadata": {},
     "output_type": "display_data"
    }
   ],
   "source": [
    "fig = plt.figure(figsize=[8,8])\n",
    "plt.plot(x_expn_1, y_expn_1)\n",
    "plt.xscale(\"log\")\n",
    "# fig.text(0.1, 0.5, \"By Calvin Zhuoqun Huang\",fontsize=50, color='gray',alpha=0.5)\n",
    "plt.show()"
   ]
  },
  {
   "cell_type": "code",
   "execution_count": 17,
   "metadata": {
    "ExecuteTime": {
     "end_time": "2018-04-04T08:02:24.002552Z",
     "start_time": "2018-04-04T08:02:23.875215Z"
    },
    "scrolled": true
   },
   "outputs": [
    {
     "data": {
      "image/png": "[encoded data removed]",
      "text/plain": [
       "<matplotlib.figure.Figure at 0x28405b0>"
      ]
     },
     "metadata": {},
     "output_type": "display_data"
    }
   ],
   "source": [
    "fig = plt.figure(figsize=[8,8])\n",
    "plt.scatter(x_expn_1, y_expn_1)\n",
    "plt.show()"
   ]
  },
  {
   "cell_type": "markdown",
   "metadata": {},
   "source": [
    "###  task 2"
   ]
  },
  {
   "cell_type": "code",
   "execution_count": 21,
   "metadata": {
    "ExecuteTime": {
     "end_time": "2018-04-04T08:38:34.021911Z",
     "start_time": "2018-04-04T08:22:41.537462Z"
    }
   },
   "outputs": [],
   "source": [
    "y_expn_2 = []\n",
    "x_expn_2 = []\n",
    "n_iter = 3\n",
    "\n",
    "n_results = file[\"n_documents\"].max()\n",
    "\n",
    "# lookup = []\n",
    "\n",
    "for i in file.index:\n",
    "#     lookup.append(file.loc[i, \"name\"])\n",
    "    x_expn_2.append(file.loc[i, \"n_documents\"])\n",
    "#     y_expn_1.append(time_run(n_iter, 1, n_results, *lookup))\n",
    "    y_expn_2.append(time_run(n_iter, 2, n_results, *[file.loc[i, \"name\"]]))"
   ]
  },
  {
   "cell_type": "code",
   "execution_count": 22,
   "metadata": {
    "ExecuteTime": {
     "end_time": "2018-04-04T08:41:57.227600Z",
     "start_time": "2018-04-04T08:41:57.083182Z"
    },
    "scrolled": true
   },
   "outputs": [
    {
     "data": {
      "image/png": "[encoded data removed]",
      "text/plain": [
       "<matplotlib.figure.Figure at 0x2c9b310>"
      ]
     },
     "metadata": {},
     "output_type": "display_data"
    }
   ],
   "source": [
    "fig = plt.figure(figsize=[8,8])\n",
    "plt.plot(x_expn_2, y_expn_2)\n",
    "# fig.text(0.1, 0.5, \"By Calvin Zhuoqun Huang\",fontsize=50, color='gray',alpha=0.5)\n",
    "plt.show()"
   ]
  },
  {
   "cell_type": "code",
   "execution_count": 23,
   "metadata": {
    "ExecuteTime": {
     "end_time": "2018-04-04T08:42:07.811511Z",
     "start_time": "2018-04-04T08:42:07.541738Z"
    },
    "scrolled": false
   },
   "outputs": [
    {
     "data": {
      "image/png": "[encoded data removed]",
      "text/plain": [
       "<matplotlib.figure.Figure at 0x2c9be50>"
      ]
     },
     "metadata": {},
     "output_type": "display_data"
    }
   ],
   "source": [
    "fig = plt.figure(figsize=[8,8])\n",
    "plt.plot(x_expn_2, y_expn_2)\n",
    "plt.xscale(\"log\")\n",
    "# fig.text(0.1, 0.5, \"By Calvin Zhuoqun Huang\",fontsize=50, color='gray',alpha=0.5)\n",
    "plt.show()"
   ]
  },
  {
   "cell_type": "code",
   "execution_count": 24,
   "metadata": {
    "ExecuteTime": {
     "end_time": "2018-04-04T08:42:13.888397Z",
     "start_time": "2018-04-04T08:42:13.761076Z"
    },
    "scrolled": true
   },
   "outputs": [
    {
     "data": {
      "image/png": "[encoded data removed]",
      "text/plain": [
       "<matplotlib.figure.Figure at 0x134520f0>"
      ]
     },
     "metadata": {},
     "output_type": "display_data"
    }
   ],
   "source": [
    "fig = plt.figure(figsize=[8,8])\n",
    "plt.scatter(x_expn_2, y_expn_2)\n",
    "plt.show()"
   ]
  },
  {
   "cell_type": "markdown",
   "metadata": {},
   "source": [
    "### together"
   ]
  },
  {
   "cell_type": "code",
   "execution_count": 25,
   "metadata": {
    "ExecuteTime": {
     "end_time": "2018-04-04T08:42:19.450582Z",
     "start_time": "2018-04-04T08:42:19.322240Z"
    }
   },
   "outputs": [
    {
     "data": {
      "image/png": "[encoded data removed]",
      "text/plain": [
       "<matplotlib.figure.Figure at 0x13469250>"
      ]
     },
     "metadata": {},
     "output_type": "display_data"
    }
   ],
   "source": [
    "fig = plt.figure(figsize=[8,8])\n",
    "plt.scatter(x_expn_1, y_expn_1, c = 'r', marker='o')\n",
    "plt.scatter(x_expn_2, y_expn_2, c = 'b', marker='x')\n",
    "plt.show()"
   ]
  },
  {
   "cell_type": "code",
   "execution_count": null,
   "metadata": {},
   "outputs": [],
   "source": []
  },
  {
   "cell_type": "markdown",
   "metadata": {},
   "source": [
    "### task 2"
   ]
  },
  {
   "cell_type": "code",
   "execution_count": null,
   "metadata": {},
   "outputs": [],
   "source": []
  },
  {
   "cell_type": "markdown",
   "metadata": {},
   "source": [
    "# Now we make a integrated subplots"
   ]
  },
  {
   "cell_type": "markdown",
   "metadata": {},
   "source": [
    "## Defining a subplot/full plot function"
   ]
  },
  {
   "cell_type": "code",
   "execution_count": null,
   "metadata": {
    "ExecuteTime": {
     "end_time": "2018-04-04T05:22:33.938492Z",
     "start_time": "2018-04-04T05:20:09.148Z"
    }
   },
   "outputs": [],
   "source": [
    "\"\"\"\n",
    "make a subplot with argsubplot position and corresponding settings.\n",
    "\"\"\"\n",
    "def subplot_graph(x, y, argsubplot, title=None, xlabel=None, \n",
    "                  ylabel=None, xscale=None, yscale=None, *args):\n",
    "    if type(argsubplot) is str:\n",
    "        plt.subplot(argsubplot)\n",
    "    else:\n",
    "        plt.subplot(*argsubplot)\n",
    "    plt.gca().plot(x, y, *args)\n",
    "    if title: plt.gca().set_title(title)\n",
    "    if xlabel: plt.gca().set_xlabel(xlabel)\n",
    "    if ylabel: plt.gca().set_ylabel(ylabel)\n",
    "    if xscale: plt.gca().set_xscale(xscale)\n",
    "    if yscale: plt.gca().set_yscale(yscale)\n",
    "    return plt.gca()\n",
    "\n",
    "\n",
    "\"\"\"\n",
    "return \n",
    "xs: list of array of x coordinates\n",
    "ys: list of array of y coordinates\n",
    "titles: list of titles\n",
    "xlabels: list of xlabels\n",
    "ylabels: list of xlabels\n",
    "xscales: list of xscales\n",
    "yscales: list of yscales\n",
    "args: list of list of plotting styles.[[style1, style2],[style1, style2]]\n",
    "watermark: watermark if you want to add one\n",
    "figsize: size of the figure, best option will be [15, 15] or None\n",
    "save: if specified, save the figure with such filename\n",
    "\"\"\"\n",
    "def full_plot(xs, ys, titles=None, xlabels=None, ylabels=None, \n",
    "              xscales=None, yscales=None, args=None, watermark=None,\n",
    "              figsize=None, save=False):\n",
    "    if figsize: fig = plt.figure(figsize=figsize)\n",
    "    else: fig = plt.figure(figsize=[15, 15])\n",
    "    \n",
    "    width = 3\n",
    "    height = len(xs) // width + 1\n",
    "    \n",
    "    for i in range(len(xs)):\n",
    "        subplot_graph(xs[i], ys[i], [height, width, i + 1], titles[i],\n",
    "                          xlabels[i], ylabels[i], xscales[i], yscales[i],\n",
    "                          *(args[i]))\n",
    "    \n",
    "    if watermark:\n",
    "        fig.text(0.1, 0.7, watermark,fontsize=50, \n",
    "                 color='gray',alpha=0.5)\n",
    "        \n",
    "    if save: plt.savefig(save)\n",
    "    \n",
    "    plt.show()"
   ]
  },
  {
   "cell_type": "markdown",
   "metadata": {},
   "source": [
    "## Setting the variables used in function"
   ]
  },
  {
   "cell_type": "code",
   "execution_count": null,
   "metadata": {
    "ExecuteTime": {
     "end_time": "2018-04-04T05:22:33.939496Z",
     "start_time": "2018-04-04T05:20:09.152Z"
    },
    "scrolled": true
   },
   "outputs": [],
   "source": [
    "xs = [exp_n_results,exp_n_results,lin_n_queries,\n",
    "      exp_n_results,exp_n_results,lin_n_queries]\n",
    "\n",
    "ys = [y_expk_1, y_expk_1, y_linm_1,\n",
    "      y_expk_2, y_expk_2, y_linm_2]\n",
    "\n",
    "titles = [\"n_results linear plot with task 1\",\n",
    "          \"n_results log plot with task 1\",\n",
    "          \"n_queries linear plot with task 1\",\n",
    "          \"n_results linear plot with task 2\",\n",
    "          \"n_results log plot with task 2\",\n",
    "          \"n_queries linear plot with task 2\",]\n",
    "\n",
    "xlabels = [\"number of results\", \"number of results\", \"number of queries\"] * 2\n",
    "ylabels = [\"time/ms\"] * 6\n",
    "\n",
    "xscales = [None, \"log\", None] * 2\n",
    "yscales = [None, None, None] * 2\n",
    "\n",
    "args = [[\"ro-\"], [\"ro-\"], [\"ro-\"],\n",
    "        [\"b*-\"], [\"b*-\"], [\"b*-\"],]\n",
    "\n",
    "figsize = [15, 15]\n",
    "\n",
    "# **************************************************************************\n",
    "# Set this to ur own name\n",
    "# **************************************************************************\n",
    "watermark = \"By Calvin Zhuoqun Huang\"\n",
    "\n",
    "save = \"plot.png\""
   ]
  },
  {
   "cell_type": "markdown",
   "metadata": {},
   "source": [
    "## Call the function"
   ]
  },
  {
   "cell_type": "code",
   "execution_count": null,
   "metadata": {
    "ExecuteTime": {
     "end_time": "2018-04-04T05:22:33.940498Z",
     "start_time": "2018-04-04T05:20:09.156Z"
    },
    "scrolled": true
   },
   "outputs": [],
   "source": [
    "full_plot(xs, ys, titles, xlabels, ylabels, \n",
    "              xscales, yscales, args, watermark,\n",
    "              figsize, save)"
   ]
  },
  {
   "cell_type": "code",
   "execution_count": null,
   "metadata": {},
   "outputs": [],
   "source": []
  }
 ],
 "metadata": {
  "hide_input": false,
  "kernelspec": {
   "display_name": "Python 3",
   "language": "python",
   "name": "python3"
  },
  "language_info": {
   "codemirror_mode": {
    "name": "ipython",
    "version": 3
   },
   "file_extension": ".py",
   "mimetype": "text/x-python",
   "name": "python",
   "nbconvert_exporter": "python",
   "pygments_lexer": "ipython3",
   "version": "3.6.3"
  },
  "toc": {
   "nav_menu": {},
   "number_sections": true,
   "sideBar": true,
   "skip_h1_title": false,
   "title_cell": "Table of Contents",
   "title_sidebar": "Contents",
   "toc_cell": true,
   "toc_position": {},
   "toc_section_display": true,
   "toc_window_display": false
  }
 },
 "nbformat": 4,
 "nbformat_minor": 2
}
